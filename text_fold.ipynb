{
 "cells": [
  {
   "cell_type": "code",
   "execution_count": 1,
   "id": "environmental-responsibility",
   "metadata": {},
   "outputs": [
    {
     "data": {
      "text/plain": [
       "374"
      ]
     },
     "execution_count": 1,
     "metadata": {},
     "output_type": "execute_result"
    }
   ],
   "source": [
    "from text2aa import textfile2aa\n",
    "\n",
    "len(textfile2aa(\"catcher\"))"
   ]
  },
  {
   "cell_type": "code",
   "execution_count": null,
   "id": "auburn-trader",
   "metadata": {},
   "outputs": [],
   "source": [
    "free_chars"
   ]
  },
  {
   "cell_type": "code",
   "execution_count": null,
   "id": "built-coating",
   "metadata": {},
   "outputs": [],
   "source": []
  },
  {
   "cell_type": "code",
   "execution_count": null,
   "id": "native-antique",
   "metadata": {},
   "outputs": [],
   "source": []
  }
 ],
 "metadata": {
  "kernelspec": {
   "display_name": "Python 3",
   "language": "python",
   "name": "python3"
  },
  "language_info": {
   "codemirror_mode": {
    "name": "ipython",
    "version": 3
   },
   "file_extension": ".py",
   "mimetype": "text/x-python",
   "name": "python",
   "nbconvert_exporter": "python",
   "pygments_lexer": "ipython3",
   "version": "3.8.3"
  }
 },
 "nbformat": 4,
 "nbformat_minor": 5
}
